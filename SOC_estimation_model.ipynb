{
  "nbformat": 4,
  "nbformat_minor": 0,
  "metadata": {
    "colab": {
      "provenance": [],
      "authorship_tag": "ABX9TyPcbXoJVl3SorEvOQGBo8p0",
      "include_colab_link": true
    },
    "kernelspec": {
      "name": "python3",
      "display_name": "Python 3"
    },
    "language_info": {
      "name": "python"
    }
  },
  "cells": [
    {
      "cell_type": "markdown",
      "metadata": {
        "id": "view-in-github",
        "colab_type": "text"
      },
      "source": [
        "<a href=\"https://colab.research.google.com/github/HEM2058/sentinelhub_remote_sensing/blob/main/SOC_estimation_model.ipynb\" target=\"_parent\"><img src=\"https://colab.research.google.com/assets/colab-badge.svg\" alt=\"Open In Colab\"/></a>"
      ]
    },
    {
      "cell_type": "code",
      "execution_count": 1,
      "metadata": {
        "colab": {
          "base_uri": "https://localhost:8080/"
        },
        "id": "caDXb8NsxTCn",
        "outputId": "129d71a3-6d82-41b5-ec0b-5e7c276f03dd"
      },
      "outputs": [
        {
          "output_type": "stream",
          "name": "stdout",
          "text": [
            "Collecting sentinelhub\n",
            "  Downloading sentinelhub-3.10.1-py3-none-any.whl (245 kB)\n",
            "\u001b[2K     \u001b[90m━━━━━━━━━━━━━━━━━━━━━━━━━━━━━━━━━━━━━━━━\u001b[0m \u001b[32m245.4/245.4 kB\u001b[0m \u001b[31m3.6 MB/s\u001b[0m eta \u001b[36m0:00:00\u001b[0m\n",
            "\u001b[?25hCollecting aenum>=2.1.4 (from sentinelhub)\n",
            "  Downloading aenum-3.1.15-py3-none-any.whl (137 kB)\n",
            "\u001b[2K     \u001b[90m━━━━━━━━━━━━━━━━━━━━━━━━━━━━━━━━━━━━━━━━\u001b[0m \u001b[32m137.6/137.6 kB\u001b[0m \u001b[31m13.5 MB/s\u001b[0m eta \u001b[36m0:00:00\u001b[0m\n",
            "\u001b[?25hRequirement already satisfied: click in /usr/local/lib/python3.10/dist-packages (from sentinelhub) (8.1.7)\n",
            "Collecting dataclasses-json (from sentinelhub)\n",
            "  Downloading dataclasses_json-0.6.4-py3-none-any.whl (28 kB)\n",
            "Requirement already satisfied: numpy<2 in /usr/local/lib/python3.10/dist-packages (from sentinelhub) (1.25.2)\n",
            "Requirement already satisfied: oauthlib in /usr/local/lib/python3.10/dist-packages (from sentinelhub) (3.2.2)\n",
            "Requirement already satisfied: pillow>=9.2.0 in /usr/local/lib/python3.10/dist-packages (from sentinelhub) (9.4.0)\n",
            "Requirement already satisfied: pyproj>=2.2.0 in /usr/local/lib/python3.10/dist-packages (from sentinelhub) (3.6.1)\n",
            "Requirement already satisfied: python-dateutil in /usr/local/lib/python3.10/dist-packages (from sentinelhub) (2.8.2)\n",
            "Requirement already satisfied: requests-oauthlib>=1.0.0 in /usr/local/lib/python3.10/dist-packages (from sentinelhub) (1.3.1)\n",
            "Requirement already satisfied: requests>=2.27.0 in /usr/local/lib/python3.10/dist-packages (from sentinelhub) (2.31.0)\n",
            "Requirement already satisfied: shapely in /usr/local/lib/python3.10/dist-packages (from sentinelhub) (2.0.3)\n",
            "Requirement already satisfied: tifffile>=2020.9.30 in /usr/local/lib/python3.10/dist-packages (from sentinelhub) (2024.2.12)\n",
            "Requirement already satisfied: tomli in /usr/local/lib/python3.10/dist-packages (from sentinelhub) (2.0.1)\n",
            "Collecting tomli-w (from sentinelhub)\n",
            "  Downloading tomli_w-1.0.0-py3-none-any.whl (6.0 kB)\n",
            "Requirement already satisfied: tqdm in /usr/local/lib/python3.10/dist-packages (from sentinelhub) (4.66.2)\n",
            "Requirement already satisfied: typing-extensions>=4.5.0 in /usr/local/lib/python3.10/dist-packages (from sentinelhub) (4.10.0)\n",
            "Collecting utm (from sentinelhub)\n",
            "  Downloading utm-0.7.0.tar.gz (8.7 kB)\n",
            "  Preparing metadata (setup.py) ... \u001b[?25l\u001b[?25hdone\n",
            "Requirement already satisfied: certifi in /usr/local/lib/python3.10/dist-packages (from pyproj>=2.2.0->sentinelhub) (2024.2.2)\n",
            "Requirement already satisfied: charset-normalizer<4,>=2 in /usr/local/lib/python3.10/dist-packages (from requests>=2.27.0->sentinelhub) (3.3.2)\n",
            "Requirement already satisfied: idna<4,>=2.5 in /usr/local/lib/python3.10/dist-packages (from requests>=2.27.0->sentinelhub) (3.6)\n",
            "Requirement already satisfied: urllib3<3,>=1.21.1 in /usr/local/lib/python3.10/dist-packages (from requests>=2.27.0->sentinelhub) (2.0.7)\n",
            "Collecting marshmallow<4.0.0,>=3.18.0 (from dataclasses-json->sentinelhub)\n",
            "  Downloading marshmallow-3.21.1-py3-none-any.whl (49 kB)\n",
            "\u001b[2K     \u001b[90m━━━━━━━━━━━━━━━━━━━━━━━━━━━━━━━━━━━━━━━━\u001b[0m \u001b[32m49.4/49.4 kB\u001b[0m \u001b[31m4.0 MB/s\u001b[0m eta \u001b[36m0:00:00\u001b[0m\n",
            "\u001b[?25hCollecting typing-inspect<1,>=0.4.0 (from dataclasses-json->sentinelhub)\n",
            "  Downloading typing_inspect-0.9.0-py3-none-any.whl (8.8 kB)\n",
            "Requirement already satisfied: six>=1.5 in /usr/local/lib/python3.10/dist-packages (from python-dateutil->sentinelhub) (1.16.0)\n",
            "Requirement already satisfied: packaging>=17.0 in /usr/local/lib/python3.10/dist-packages (from marshmallow<4.0.0,>=3.18.0->dataclasses-json->sentinelhub) (24.0)\n",
            "Collecting mypy-extensions>=0.3.0 (from typing-inspect<1,>=0.4.0->dataclasses-json->sentinelhub)\n",
            "  Downloading mypy_extensions-1.0.0-py3-none-any.whl (4.7 kB)\n",
            "Building wheels for collected packages: utm\n",
            "  Building wheel for utm (setup.py) ... \u001b[?25l\u001b[?25hdone\n",
            "  Created wheel for utm: filename=utm-0.7.0-py3-none-any.whl size=6084 sha256=226931a658f070526ce043153fbbcd73608040160fa5dcde5e69ae8f3407e126\n",
            "  Stored in directory: /root/.cache/pip/wheels/2f/a1/c8/543df0e8f5e824c3e92a432e32deb9cd89ae686095ee8cfcbe\n",
            "Successfully built utm\n",
            "Installing collected packages: utm, aenum, tomli-w, mypy-extensions, marshmallow, typing-inspect, dataclasses-json, sentinelhub\n",
            "Successfully installed aenum-3.1.15 dataclasses-json-0.6.4 marshmallow-3.21.1 mypy-extensions-1.0.0 sentinelhub-3.10.1 tomli-w-1.0.0 typing-inspect-0.9.0 utm-0.7.0\n"
          ]
        }
      ],
      "source": [
        "pip install sentinelhub"
      ]
    },
    {
      "cell_type": "code",
      "source": [
        "import pandas as pd\n",
        "from sentinelhub import SentinelHubRequest, DataCollection, MimeType, CRS, SHConfig, BBox\n",
        "\n",
        "# Credentials\n",
        "config = SHConfig()\n",
        "config.sh_client_id = '80cb4233-97cd-4ae8-aa82-787cc091082f'\n",
        "config.sh_client_secret = 'Oh48OTexSh32T4InF8fBje5BGvnAYH6i'\n",
        "\n",
        "# Evalscript\n",
        "evalscript = \"\"\"\n",
        "//VERSION=3\n",
        "\n",
        "function setup() {\n",
        "  return {\n",
        "    input: [\"B04\", \"B08\"], // Red and NIR bands\n",
        "    output: { bands: 1,\n",
        "    sampleType: \"FLOAT32\"  } // NDVI will be output as a single band\n",
        "  };\n",
        "}\n",
        "\n",
        "function evaluatePixel(sample) {\n",
        "  // Calculate NDVI\n",
        "  var ndvi = (sample.B08 - sample.B04) / (sample.B08 + sample.B04);\n",
        "\n",
        "  // Return NDVI value\n",
        "  return [ndvi];\n",
        "}\n",
        "\"\"\"\n",
        "\n",
        "# List of coordinates with SOC stock values\n",
        "coordinates = [\n",
        "    {\"Latitude\": 28.27187, \"Longitude\": 83.88414, \"soc_stock\": 31.96053695678711},\n",
        "    {\"Latitude\": 28.29307, \"Longitude\": 83.88256, \"soc_stock\": 11.860776901245117},\n",
        "    {\"Latitude\": 28.30454, \"Longitude\": 83.89242, \"soc_stock\": 91.91413879394531},\n",
        "    {\"Latitude\": 28.30732, \"Longitude\": 83.9224, \"soc_stock\": 31.96053695678711},\n",
        "    {\"Latitude\": 28.30662, \"Longitude\": 83.97526, \"soc_stock\": 11.860776901245117},\n",
        "    {\"Latitude\": 28.26562, \"Longitude\": 83.94449, \"soc_stock\": 32.85845184326172},\n",
        "    {\"Latitude\": 28.27222, \"Longitude\": 83.94765, \"soc_stock\": 29.808000564575195}\n",
        "]\n",
        "\n",
        "# Create an empty list to store the results\n",
        "results = []\n",
        "\n",
        "# Loop over each coordinate\n",
        "for coord in coordinates:\n",
        "    # Define bounding box around the point of interest\n",
        "    bbox = BBox(\n",
        "        bbox=[coord[\"Longitude\"] - 0.0001, coord[\"Latitude\"] - 0.0001,\n",
        "              coord[\"Longitude\"] + 0.0001, coord[\"Latitude\"] + 0.0001],\n",
        "        crs=CRS.WGS84\n",
        "    )\n",
        "\n",
        "    # Create SentinelHub request with TIFF format and FLOAT32 sample type\n",
        "    request = SentinelHubRequest(\n",
        "        evalscript=evalscript,\n",
        "        input_data=[\n",
        "            SentinelHubRequest.input_data(\n",
        "                data_collection=DataCollection.SENTINEL2_L2A,\n",
        "                time_interval=('2023-11-24', '2024-01-24'),\n",
        "            ),\n",
        "        ],\n",
        "        responses=[\n",
        "            SentinelHubRequest.output_response('default', MimeType.TIFF),  # Use TIFF format\n",
        "        ],\n",
        "        bbox=bbox,\n",
        "        size=[1, 1],  # Set size to 1x1 pixel to get only one pixel value\n",
        "        config=config,\n",
        "    )\n",
        "\n",
        "    # Get data from the request\n",
        "    response = request.get_data()\n",
        "\n",
        "    # Append the results to the list\n",
        "    results.append({\n",
        "        'latitude': coord['Latitude'],\n",
        "        'longitude': coord['Longitude'],\n",
        "        'soc_stock': coord['soc_stock'],\n",
        "        'ndvi': response[0][0][0] if response else None  # Extract NDVI value from response\n",
        "    })\n",
        "\n",
        "# Convert the results list to a DataFrame\n",
        "df = pd.DataFrame(results)\n",
        "\n",
        "# Save the DataFrame to an Excel file\n",
        "df.to_excel('output.xlsx', index=False)\n"
      ],
      "metadata": {
        "id": "6ybRZpcGxiix"
      },
      "execution_count": 9,
      "outputs": []
    },
    {
      "cell_type": "code",
      "source": [
        "import pandas as pd\n",
        "from sklearn.model_selection import train_test_split\n",
        "from sklearn.linear_model import LinearRegression\n",
        "from sklearn.metrics import mean_squared_error\n",
        "\n",
        "# Step 1: Load the data\n",
        "df = pd.read_excel('output.xlsx')\n",
        "\n",
        "# Step 2: Prepare the data\n",
        "X = df[['ndvi']]  # Input features (NDVI)\n",
        "y = df['soc_stock']  # Target variable (SOC stock)\n",
        "\n",
        "# Step 3: Split the data into training and testing sets\n",
        "X_train, X_test, y_train, y_test = train_test_split(X, y, test_size=0.2, random_state=42)\n",
        "\n",
        "# Step 4: Define the model\n",
        "model = LinearRegression()\n",
        "\n",
        "# Step 5: Train the model\n",
        "model.fit(X_train, y_train)\n",
        "\n",
        "# Step 6: Evaluate the model\n",
        "train_mse = mean_squared_error(y_train, model.predict(X_train))\n",
        "test_mse = mean_squared_error(y_test, model.predict(X_test))\n",
        "print(f'Training MSE: {train_mse}')\n",
        "print(f'Testing MSE: {test_mse}')\n",
        "\n",
        "# Step 7: Optionally, fine-tune the model parameters and retrain if necessary\n",
        "\n",
        "# Step 8: Save the trained model\n",
        "import joblib\n",
        "joblib.dump(model, 'soc_prediction_model.pkl')\n"
      ],
      "metadata": {
        "colab": {
          "base_uri": "https://localhost:8080/"
        },
        "id": "4mKhN5GOxqMo",
        "outputId": "a707c743-ab19-452d-d49b-5059fb63c8fa"
      },
      "execution_count": 10,
      "outputs": [
        {
          "output_type": "stream",
          "name": "stdout",
          "text": [
            "Training MSE: 723.6782060894732\n",
            "Testing MSE: 448.9356300353429\n"
          ]
        },
        {
          "output_type": "execute_result",
          "data": {
            "text/plain": [
              "['soc_prediction_model.pkl']"
            ]
          },
          "metadata": {},
          "execution_count": 10
        }
      ]
    },
    {
      "cell_type": "code",
      "source": [
        "import joblib\n",
        "\n",
        "# Load the trained model\n",
        "model = joblib.load('soc_prediction_model.pkl')\n",
        "\n",
        "# NDVI value for prediction\n",
        "ndvi_value = 0.2\n",
        "\n",
        "# Predict SOC stock value\n",
        "soc_predicted = model.predict([[ndvi_value]])\n",
        "\n",
        "print(f\"Predicted SOC stock value for NDVI {ndvi_value}: {soc_predicted[0]}\")\n"
      ],
      "metadata": {
        "colab": {
          "base_uri": "https://localhost:8080/"
        },
        "id": "9I6yF8F90aSc",
        "outputId": "528100aa-a0dd-462d-f685-dff4b4661c51"
      },
      "execution_count": 11,
      "outputs": [
        {
          "output_type": "stream",
          "name": "stdout",
          "text": [
            "Predicted SOC stock value for NDVI 0.2: 49.61433875626267\n"
          ]
        },
        {
          "output_type": "stream",
          "name": "stderr",
          "text": [
            "/usr/local/lib/python3.10/dist-packages/sklearn/base.py:439: UserWarning: X does not have valid feature names, but LinearRegression was fitted with feature names\n",
            "  warnings.warn(\n"
          ]
        }
      ]
    }
  ]
}