{
  "nbformat": 4,
  "nbformat_minor": 0,
  "metadata": {
    "colab": {
      "provenance": [],
      "mount_file_id": "1Br8d6GBDDecWwSI3S_ZAC0_9m54hSWaY",
      "authorship_tag": "ABX9TyMgIZKA7ydbupeTVyZEbNsP",
      "include_colab_link": true
    },
    "kernelspec": {
      "name": "python3",
      "display_name": "Python 3"
    },
    "language_info": {
      "name": "python"
    }
  },
  "cells": [
    {
      "cell_type": "markdown",
      "metadata": {
        "id": "view-in-github",
        "colab_type": "text"
      },
      "source": [
        "<a href=\"https://colab.research.google.com/github/HEM2058/sentinelhub_remote_sensing/blob/main/Yield_Estimation_System.ipynb\" target=\"_parent\"><img src=\"https://colab.research.google.com/assets/colab-badge.svg\" alt=\"Open In Colab\"/></a>"
      ]
    },
    {
      "cell_type": "code",
      "execution_count": 2,
      "metadata": {
        "id": "ECjmAoK3JEDi",
        "colab": {
          "base_uri": "https://localhost:8080/"
        },
        "outputId": "9236a55b-d0f7-4146-b404-0d5f703a3678"
      },
      "outputs": [
        {
          "output_type": "stream",
          "name": "stdout",
          "text": [
            "Index(['Year', 'Crop Name', 'Planting Date', 'Harvesting Date',\n",
            "       'Yield Value (kg/ha)', 'Estimated Yield Value (kg/ha)',\n",
            "       'Fertilizer Type', 'Fertilizer Quantity (kg/ha)',\n",
            "       'Fertilizer Application Date', 'Pesticide Type',\n",
            "       'Pesticide Quantity (L/ha)', 'Pesticide Application Date', 'SOC (%)',\n",
            "       'pH', 'Bulk Density (g/cm³)', 'CEC (cmol/kg)', 'Weed Management',\n",
            "       'Irrigation Type', 'Irrigation Frequency', 'Water Volume per Cycle',\n",
            "       'Unnamed: 20', 'Unnamed: 21', 'Unnamed: 22', 'NDVI Mean', 'SAVI Mean',\n",
            "       'NDWI Mean', 'BSI Mean', 'MSAVI Mean', 'Temperature Mean (C)',\n",
            "       'Cumulative Precipitation (mm)'],\n",
            "      dtype='object')\n"
          ]
        }
      ],
      "source": [
        "import pandas as pd\n",
        "\n",
        "# Define the path to the CSV file\n",
        "file_path = \"/content/drive/MyDrive/Yield_DATA/Updated_User_Inputted_Data_with_GIS_Variability.csv\"\n",
        "\n",
        "# Attempt to read the CSV file with a different encoding\n",
        "try:\n",
        "    data = pd.read_csv(file_path, encoding=\"latin1\")  # You can also try 'ISO-8859-1'\n",
        "    print(data.columns)\n",
        "except UnicodeDecodeError as e:\n",
        "    print(\"UnicodeDecodeError:\", e)\n"
      ]
    },
    {
      "cell_type": "code",
      "source": [
        "# Select the relevant columns\n",
        "columns_of_interest = [\n",
        "    'Year',\n",
        "    'Yield Value (kg/ha)',\n",
        "    'NDVI Mean',\n",
        "    'SAVI Mean',\n",
        "    'NDWI Mean',\n",
        "    'BSI Mean',\n",
        "    'MSAVI Mean',\n",
        "    'Temperature Mean (C)',\n",
        "    'Cumulative Precipitation (mm)'\n",
        "]\n",
        "\n",
        "# Filter the data\n",
        "filtered_data = data[columns_of_interest]\n",
        "\n",
        "# Display the filtered DataFrame\n",
        "print(filtered_data.head())"
      ],
      "metadata": {
        "colab": {
          "base_uri": "https://localhost:8080/"
        },
        "id": "mNy5dzNzU_Op",
        "outputId": "a6156b41-8b57-41f0-fff1-4740040cd927"
      },
      "execution_count": 3,
      "outputs": [
        {
          "output_type": "stream",
          "name": "stdout",
          "text": [
            "   Year  Yield Value (kg/ha)  NDVI Mean  SAVI Mean  NDWI Mean  BSI Mean  \\\n",
            "0  2014               4200.0        NaN        NaN        NaN       NaN   \n",
            "1  2014                  NaN        NaN        NaN        NaN       NaN   \n",
            "2  2015               4300.0   0.237212   0.394380  -0.216067 -0.119702   \n",
            "3  2015                  NaN   0.237212   0.411887  -0.236202 -0.089347   \n",
            "4  2016               4400.0   0.329486   0.376744  -0.216071 -0.103617   \n",
            "\n",
            "   MSAVI Mean  Temperature Mean (C)  Cumulative Precipitation (mm)  \n",
            "0         NaN             18.298815                       6.162172  \n",
            "1         NaN             18.298815                       6.162172  \n",
            "2    0.358803             19.603492                       2.743627  \n",
            "3    0.371910             19.603492                       2.743627  \n",
            "4    0.346671             20.151376                       5.003225  \n"
          ]
        }
      ]
    },
    {
      "cell_type": "code",
      "source": [
        "# Filter the data to include only rows where 'Yield Value (kg/ha)' is not NaN\n",
        "filtered_data = data[columns_of_interest].dropna(subset=['Yield Value (kg/ha)'])\n",
        "\n",
        "# Display the filtered DataFrame\n",
        "print(filtered_data.head())"
      ],
      "metadata": {
        "colab": {
          "base_uri": "https://localhost:8080/"
        },
        "id": "24fRYnsZVqP7",
        "outputId": "09efa8e2-72ff-4fef-9f5c-5d6a51ccb87b"
      },
      "execution_count": 4,
      "outputs": [
        {
          "output_type": "stream",
          "name": "stdout",
          "text": [
            "   Year  Yield Value (kg/ha)  NDVI Mean  SAVI Mean  NDWI Mean  BSI Mean  \\\n",
            "0  2014               4200.0        NaN        NaN        NaN       NaN   \n",
            "2  2015               4300.0   0.237212   0.394380  -0.216067 -0.119702   \n",
            "4  2016               4400.0   0.329486   0.376744  -0.216071 -0.103617   \n",
            "6  2017               4700.0   0.304098   0.413011  -0.224016 -0.104008   \n",
            "8  2018               4800.0   0.214187   0.372037  -0.275694 -0.124028   \n",
            "\n",
            "   MSAVI Mean  Temperature Mean (C)  Cumulative Precipitation (mm)  \n",
            "0         NaN             18.298815                       6.162172  \n",
            "2    0.358803             19.603492                       2.743627  \n",
            "4    0.346671             20.151376                       5.003225  \n",
            "6    0.357678             19.434456                       3.651395  \n",
            "8    0.357657             18.043540                       5.267857  \n"
          ]
        }
      ]
    }
  ]
}